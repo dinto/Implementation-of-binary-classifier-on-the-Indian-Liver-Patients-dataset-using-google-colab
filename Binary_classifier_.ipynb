{
  "nbformat": 4,
  "nbformat_minor": 0,
  "metadata": {
    "colab": {
      "name": "08_DINTO_Binary_classifier .ipynb",
      "provenance": []
    },
    "kernelspec": {
      "name": "python3",
      "display_name": "Python 3"
    }
  },
  "cells": [
    {
      "cell_type": "markdown",
      "metadata": {
        "id": "Mhw_zTalf5IF",
        "colab_type": "text"
      },
      "source": [
        "#Connect colab to drive to access dataset"
      ]
    },
    {
      "cell_type": "code",
      "metadata": {
        "id": "ijZOldnUSaSw",
        "colab_type": "code",
        "colab": {
          "base_uri": "https://localhost:8080/",
          "height": 33
        },
        "outputId": "42568626-b20b-4bd1-fd73-1012fc9ea9fa"
      },
      "source": [
        "from google.colab import drive\n",
        "drive.mount(\"/Drive\")"
      ],
      "execution_count": 1,
      "outputs": [
        {
          "output_type": "stream",
          "text": [
            "Drive already mounted at /Drive; to attempt to forcibly remount, call drive.mount(\"/Drive\", force_remount=True).\n"
          ],
          "name": "stdout"
        }
      ]
    },
    {
      "cell_type": "code",
      "metadata": {
        "id": "T-wEfEuiWglh",
        "colab_type": "code",
        "colab": {}
      },
      "source": [
        "import pandas as pd"
      ],
      "execution_count": 2,
      "outputs": []
    },
    {
      "cell_type": "markdown",
      "metadata": {
        "id": "bMR7pt2XgG_t",
        "colab_type": "text"
      },
      "source": [
        "#verify data in dataset"
      ]
    },
    {
      "cell_type": "code",
      "metadata": {
        "id": "eQF-fa0cV41o",
        "colab_type": "code",
        "colab": {
          "base_uri": "https://localhost:8080/",
          "height": 217
        },
        "outputId": "f6d0bbe4-35c1-4d6a-880d-d2d89aad6fc7"
      },
      "source": [
        "df = pd.read_csv('/Drive/My Drive/Colab Notebooks/lab experiment/exam/ilp.csv')\n",
        "df.head()"
      ],
      "execution_count": 3,
      "outputs": [
        {
          "output_type": "execute_result",
          "data": {
            "text/html": [
              "<div>\n",
              "<style scoped>\n",
              "    .dataframe tbody tr th:only-of-type {\n",
              "        vertical-align: middle;\n",
              "    }\n",
              "\n",
              "    .dataframe tbody tr th {\n",
              "        vertical-align: top;\n",
              "    }\n",
              "\n",
              "    .dataframe thead th {\n",
              "        text-align: right;\n",
              "    }\n",
              "</style>\n",
              "<table border=\"1\" class=\"dataframe\">\n",
              "  <thead>\n",
              "    <tr style=\"text-align: right;\">\n",
              "      <th></th>\n",
              "      <th>Age</th>\n",
              "      <th>Gender</th>\n",
              "      <th>Total_Bilirubin</th>\n",
              "      <th>Direct_Bilirubin</th>\n",
              "      <th>Alkaline_Phosphotase</th>\n",
              "      <th>Alamine_Aminotransferase</th>\n",
              "      <th>Aspartate_Aminotransferase</th>\n",
              "      <th>Total_Protiens</th>\n",
              "      <th>Albumin</th>\n",
              "      <th>Albumin_and_Globulin_Ratio</th>\n",
              "      <th>Dataset</th>\n",
              "    </tr>\n",
              "  </thead>\n",
              "  <tbody>\n",
              "    <tr>\n",
              "      <th>0</th>\n",
              "      <td>65</td>\n",
              "      <td>Female</td>\n",
              "      <td>0.7</td>\n",
              "      <td>0.1</td>\n",
              "      <td>187</td>\n",
              "      <td>16</td>\n",
              "      <td>18</td>\n",
              "      <td>6.8</td>\n",
              "      <td>3.3</td>\n",
              "      <td>0.90</td>\n",
              "      <td>1</td>\n",
              "    </tr>\n",
              "    <tr>\n",
              "      <th>1</th>\n",
              "      <td>62</td>\n",
              "      <td>Male</td>\n",
              "      <td>10.9</td>\n",
              "      <td>5.5</td>\n",
              "      <td>699</td>\n",
              "      <td>64</td>\n",
              "      <td>100</td>\n",
              "      <td>7.5</td>\n",
              "      <td>3.2</td>\n",
              "      <td>0.74</td>\n",
              "      <td>1</td>\n",
              "    </tr>\n",
              "    <tr>\n",
              "      <th>2</th>\n",
              "      <td>62</td>\n",
              "      <td>Male</td>\n",
              "      <td>7.3</td>\n",
              "      <td>4.1</td>\n",
              "      <td>490</td>\n",
              "      <td>60</td>\n",
              "      <td>68</td>\n",
              "      <td>7.0</td>\n",
              "      <td>3.3</td>\n",
              "      <td>0.89</td>\n",
              "      <td>1</td>\n",
              "    </tr>\n",
              "    <tr>\n",
              "      <th>3</th>\n",
              "      <td>58</td>\n",
              "      <td>Male</td>\n",
              "      <td>1.0</td>\n",
              "      <td>0.4</td>\n",
              "      <td>182</td>\n",
              "      <td>14</td>\n",
              "      <td>20</td>\n",
              "      <td>6.8</td>\n",
              "      <td>3.4</td>\n",
              "      <td>1.00</td>\n",
              "      <td>1</td>\n",
              "    </tr>\n",
              "    <tr>\n",
              "      <th>4</th>\n",
              "      <td>72</td>\n",
              "      <td>Male</td>\n",
              "      <td>3.9</td>\n",
              "      <td>2.0</td>\n",
              "      <td>195</td>\n",
              "      <td>27</td>\n",
              "      <td>59</td>\n",
              "      <td>7.3</td>\n",
              "      <td>2.4</td>\n",
              "      <td>0.40</td>\n",
              "      <td>1</td>\n",
              "    </tr>\n",
              "  </tbody>\n",
              "</table>\n",
              "</div>"
            ],
            "text/plain": [
              "   Age  Gender  Total_Bilirubin  ...  Albumin  Albumin_and_Globulin_Ratio  Dataset\n",
              "0   65  Female              0.7  ...      3.3                        0.90        1\n",
              "1   62    Male             10.9  ...      3.2                        0.74        1\n",
              "2   62    Male              7.3  ...      3.3                        0.89        1\n",
              "3   58    Male              1.0  ...      3.4                        1.00        1\n",
              "4   72    Male              3.9  ...      2.4                        0.40        1\n",
              "\n",
              "[5 rows x 11 columns]"
            ]
          },
          "metadata": {
            "tags": []
          },
          "execution_count": 3
        }
      ]
    },
    {
      "cell_type": "code",
      "metadata": {
        "id": "MY_mmiW0o6CW",
        "colab_type": "code",
        "colab": {
          "base_uri": "https://localhost:8080/",
          "height": 316
        },
        "outputId": "6b990437-d0a3-45c3-b5f3-d0ff17f0c7e6"
      },
      "source": [
        "df.info()"
      ],
      "execution_count": 4,
      "outputs": [
        {
          "output_type": "stream",
          "text": [
            "<class 'pandas.core.frame.DataFrame'>\n",
            "RangeIndex: 583 entries, 0 to 582\n",
            "Data columns (total 11 columns):\n",
            " #   Column                      Non-Null Count  Dtype  \n",
            "---  ------                      --------------  -----  \n",
            " 0   Age                         583 non-null    int64  \n",
            " 1   Gender                      583 non-null    object \n",
            " 2   Total_Bilirubin             583 non-null    float64\n",
            " 3   Direct_Bilirubin            583 non-null    float64\n",
            " 4   Alkaline_Phosphotase        583 non-null    int64  \n",
            " 5   Alamine_Aminotransferase    583 non-null    int64  \n",
            " 6   Aspartate_Aminotransferase  583 non-null    int64  \n",
            " 7   Total_Protiens              583 non-null    float64\n",
            " 8   Albumin                     583 non-null    float64\n",
            " 9   Albumin_and_Globulin_Ratio  579 non-null    float64\n",
            " 10  Dataset                     583 non-null    int64  \n",
            "dtypes: float64(5), int64(5), object(1)\n",
            "memory usage: 50.2+ KB\n"
          ],
          "name": "stdout"
        }
      ]
    },
    {
      "cell_type": "code",
      "metadata": {
        "id": "Fpy1hr42fE0q",
        "colab_type": "code",
        "colab": {
          "base_uri": "https://localhost:8080/",
          "height": 33
        },
        "outputId": "254fb5ea-6322-4b65-d174-6a44226ed16c"
      },
      "source": [
        "df.shape"
      ],
      "execution_count": 5,
      "outputs": [
        {
          "output_type": "execute_result",
          "data": {
            "text/plain": [
              "(583, 11)"
            ]
          },
          "metadata": {
            "tags": []
          },
          "execution_count": 5
        }
      ]
    },
    {
      "cell_type": "code",
      "metadata": {
        "id": "M0X24stipMG6",
        "colab_type": "code",
        "colab": {
          "base_uri": "https://localhost:8080/",
          "height": 415
        },
        "outputId": "bb2a954c-abed-43c0-fa7e-c2df0a570e97"
      },
      "source": [
        "import seaborn as sns\n",
        "\n",
        "n_records = len(df.index)\n",
        "n_records_liv_pos = len(df[df['Dataset'] == 1])\n",
        "n_records_liv_neg = len(df[df['Dataset'] == 2])\n",
        "percent_liver_disease_pos = (n_records_liv_pos/n_records)*100\n",
        "\n",
        "print(\"Number of records: {}\".format(n_records))\n",
        "print(\"Number of patients likely to have liver disease {}\".format(n_records_liv_pos))\n",
        "print(\"Number of patients unlikely to have liver disease {}\".format(n_records_liv_neg))\n",
        "print(\"Percentage of patients likely to have liver disease {}%\".format(percent_liver_disease_pos))\n",
        "\n",
        "sns.countplot(data=df, x = 'Gender', label='Count')\n"
      ],
      "execution_count": 6,
      "outputs": [
        {
          "output_type": "stream",
          "text": [
            "Number of records: 583\n",
            "Number of patients likely to have liver disease 416\n",
            "Number of patients unlikely to have liver disease 167\n",
            "Percentage of patients likely to have liver disease 71.35506003430532%\n"
          ],
          "name": "stdout"
        },
        {
          "output_type": "stream",
          "text": [
            "/usr/local/lib/python3.6/dist-packages/statsmodels/tools/_testing.py:19: FutureWarning: pandas.util.testing is deprecated. Use the functions in the public API at pandas.testing instead.\n",
            "  import pandas.util.testing as tm\n"
          ],
          "name": "stderr"
        },
        {
          "output_type": "execute_result",
          "data": {
            "text/plain": [
              "<matplotlib.axes._subplots.AxesSubplot at 0x7f3fe369a748>"
            ]
          },
          "metadata": {
            "tags": []
          },
          "execution_count": 6
        },
        {
          "output_type": "display_data",
          "data": {
            "image/png": "[encoded data removed]",
            "text/plain": [
              "<Figure size 432x288 with 1 Axes>"
            ]
          },
          "metadata": {
            "tags": [],
            "needs_background": "light"
          }
        }
      ]
    },
    {
      "cell_type": "markdown",
      "metadata": {
        "id": "twqyjucffxvT",
        "colab_type": "text"
      },
      "source": [
        "# changing gender  values to 0, 1 ; 0 indicates female and 1 indicate male\n"
      ]
    },
    {
      "cell_type": "code",
      "metadata": {
        "id": "bJDfBPt4gTKQ",
        "colab_type": "code",
        "colab": {
          "base_uri": "https://localhost:8080/",
          "height": 367
        },
        "outputId": "e8d43b40-44e3-4e43-dc06-ec0025dc2d5b"
      },
      "source": [
        "df['Gender'] = df['Gender'].astype('category')\n",
        "df['Gender'] = df['Gender'].cat.codes\n",
        "df[:10]"
      ],
      "execution_count": 7,
      "outputs": [
        {
          "output_type": "execute_result",
          "data": {
            "text/html": [
              "<div>\n",
              "<style scoped>\n",
              "    .dataframe tbody tr th:only-of-type {\n",
              "        vertical-align: middle;\n",
              "    }\n",
              "\n",
              "    .dataframe tbody tr th {\n",
              "        vertical-align: top;\n",
              "    }\n",
              "\n",
              "    .dataframe thead th {\n",
              "        text-align: right;\n",
              "    }\n",
              "</style>\n",
              "<table border=\"1\" class=\"dataframe\">\n",
              "  <thead>\n",
              "    <tr style=\"text-align: right;\">\n",
              "      <th></th>\n",
              "      <th>Age</th>\n",
              "      <th>Gender</th>\n",
              "      <th>Total_Bilirubin</th>\n",
              "      <th>Direct_Bilirubin</th>\n",
              "      <th>Alkaline_Phosphotase</th>\n",
              "      <th>Alamine_Aminotransferase</th>\n",
              "      <th>Aspartate_Aminotransferase</th>\n",
              "      <th>Total_Protiens</th>\n",
              "      <th>Albumin</th>\n",
              "      <th>Albumin_and_Globulin_Ratio</th>\n",
              "      <th>Dataset</th>\n",
              "    </tr>\n",
              "  </thead>\n",
              "  <tbody>\n",
              "    <tr>\n",
              "      <th>0</th>\n",
              "      <td>65</td>\n",
              "      <td>0</td>\n",
              "      <td>0.7</td>\n",
              "      <td>0.1</td>\n",
              "      <td>187</td>\n",
              "      <td>16</td>\n",
              "      <td>18</td>\n",
              "      <td>6.8</td>\n",
              "      <td>3.3</td>\n",
              "      <td>0.90</td>\n",
              "      <td>1</td>\n",
              "    </tr>\n",
              "    <tr>\n",
              "      <th>1</th>\n",
              "      <td>62</td>\n",
              "      <td>1</td>\n",
              "      <td>10.9</td>\n",
              "      <td>5.5</td>\n",
              "      <td>699</td>\n",
              "      <td>64</td>\n",
              "      <td>100</td>\n",
              "      <td>7.5</td>\n",
              "      <td>3.2</td>\n",
              "      <td>0.74</td>\n",
              "      <td>1</td>\n",
              "    </tr>\n",
              "    <tr>\n",
              "      <th>2</th>\n",
              "      <td>62</td>\n",
              "      <td>1</td>\n",
              "      <td>7.3</td>\n",
              "      <td>4.1</td>\n",
              "      <td>490</td>\n",
              "      <td>60</td>\n",
              "      <td>68</td>\n",
              "      <td>7.0</td>\n",
              "      <td>3.3</td>\n",
              "      <td>0.89</td>\n",
              "      <td>1</td>\n",
              "    </tr>\n",
              "    <tr>\n",
              "      <th>3</th>\n",
              "      <td>58</td>\n",
              "      <td>1</td>\n",
              "      <td>1.0</td>\n",
              "      <td>0.4</td>\n",
              "      <td>182</td>\n",
              "      <td>14</td>\n",
              "      <td>20</td>\n",
              "      <td>6.8</td>\n",
              "      <td>3.4</td>\n",
              "      <td>1.00</td>\n",
              "      <td>1</td>\n",
              "    </tr>\n",
              "    <tr>\n",
              "      <th>4</th>\n",
              "      <td>72</td>\n",
              "      <td>1</td>\n",
              "      <td>3.9</td>\n",
              "      <td>2.0</td>\n",
              "      <td>195</td>\n",
              "      <td>27</td>\n",
              "      <td>59</td>\n",
              "      <td>7.3</td>\n",
              "      <td>2.4</td>\n",
              "      <td>0.40</td>\n",
              "      <td>1</td>\n",
              "    </tr>\n",
              "    <tr>\n",
              "      <th>5</th>\n",
              "      <td>46</td>\n",
              "      <td>1</td>\n",
              "      <td>1.8</td>\n",
              "      <td>0.7</td>\n",
              "      <td>208</td>\n",
              "      <td>19</td>\n",
              "      <td>14</td>\n",
              "      <td>7.6</td>\n",
              "      <td>4.4</td>\n",
              "      <td>1.30</td>\n",
              "      <td>1</td>\n",
              "    </tr>\n",
              "    <tr>\n",
              "      <th>6</th>\n",
              "      <td>26</td>\n",
              "      <td>0</td>\n",
              "      <td>0.9</td>\n",
              "      <td>0.2</td>\n",
              "      <td>154</td>\n",
              "      <td>16</td>\n",
              "      <td>12</td>\n",
              "      <td>7.0</td>\n",
              "      <td>3.5</td>\n",
              "      <td>1.00</td>\n",
              "      <td>1</td>\n",
              "    </tr>\n",
              "    <tr>\n",
              "      <th>7</th>\n",
              "      <td>29</td>\n",
              "      <td>0</td>\n",
              "      <td>0.9</td>\n",
              "      <td>0.3</td>\n",
              "      <td>202</td>\n",
              "      <td>14</td>\n",
              "      <td>11</td>\n",
              "      <td>6.7</td>\n",
              "      <td>3.6</td>\n",
              "      <td>1.10</td>\n",
              "      <td>1</td>\n",
              "    </tr>\n",
              "    <tr>\n",
              "      <th>8</th>\n",
              "      <td>17</td>\n",
              "      <td>1</td>\n",
              "      <td>0.9</td>\n",
              "      <td>0.3</td>\n",
              "      <td>202</td>\n",
              "      <td>22</td>\n",
              "      <td>19</td>\n",
              "      <td>7.4</td>\n",
              "      <td>4.1</td>\n",
              "      <td>1.20</td>\n",
              "      <td>2</td>\n",
              "    </tr>\n",
              "    <tr>\n",
              "      <th>9</th>\n",
              "      <td>55</td>\n",
              "      <td>1</td>\n",
              "      <td>0.7</td>\n",
              "      <td>0.2</td>\n",
              "      <td>290</td>\n",
              "      <td>53</td>\n",
              "      <td>58</td>\n",
              "      <td>6.8</td>\n",
              "      <td>3.4</td>\n",
              "      <td>1.00</td>\n",
              "      <td>1</td>\n",
              "    </tr>\n",
              "  </tbody>\n",
              "</table>\n",
              "</div>"
            ],
            "text/plain": [
              "   Age  Gender  Total_Bilirubin  ...  Albumin  Albumin_and_Globulin_Ratio  Dataset\n",
              "0   65       0              0.7  ...      3.3                        0.90        1\n",
              "1   62       1             10.9  ...      3.2                        0.74        1\n",
              "2   62       1              7.3  ...      3.3                        0.89        1\n",
              "3   58       1              1.0  ...      3.4                        1.00        1\n",
              "4   72       1              3.9  ...      2.4                        0.40        1\n",
              "5   46       1              1.8  ...      4.4                        1.30        1\n",
              "6   26       0              0.9  ...      3.5                        1.00        1\n",
              "7   29       0              0.9  ...      3.6                        1.10        1\n",
              "8   17       1              0.9  ...      4.1                        1.20        2\n",
              "9   55       1              0.7  ...      3.4                        1.00        1\n",
              "\n",
              "[10 rows x 11 columns]"
            ]
          },
          "metadata": {
            "tags": []
          },
          "execution_count": 7
        }
      ]
    },
    {
      "cell_type": "code",
      "metadata": {
        "id": "CaCaLKUTq0gX",
        "colab_type": "code",
        "colab": {}
      },
      "source": [
        "# Drop Dataset field\n",
        "#df = df.drop(['Dataset'], axis=1)\n",
        "#df.head()"
      ],
      "execution_count": 8,
      "outputs": []
    },
    {
      "cell_type": "markdown",
      "metadata": {
        "id": "hkn3f1zdg8Rs",
        "colab_type": "text"
      },
      "source": [
        "#Remove missing values"
      ]
    },
    {
      "cell_type": "code",
      "metadata": {
        "id": "n08duflig9Fx",
        "colab_type": "code",
        "colab": {
          "base_uri": "https://localhost:8080/",
          "height": 367
        },
        "outputId": "494fb1d8-87a4-4736-e9da-27d62fe9d6dc"
      },
      "source": [
        "df = df.dropna()\n",
        "df[:10]"
      ],
      "execution_count": 9,
      "outputs": [
        {
          "output_type": "execute_result",
          "data": {
            "text/html": [
              "<div>\n",
              "<style scoped>\n",
              "    .dataframe tbody tr th:only-of-type {\n",
              "        vertical-align: middle;\n",
              "    }\n",
              "\n",
              "    .dataframe tbody tr th {\n",
              "        vertical-align: top;\n",
              "    }\n",
              "\n",
              "    .dataframe thead th {\n",
              "        text-align: right;\n",
              "    }\n",
              "</style>\n",
              "<table border=\"1\" class=\"dataframe\">\n",
              "  <thead>\n",
              "    <tr style=\"text-align: right;\">\n",
              "      <th></th>\n",
              "      <th>Age</th>\n",
              "      <th>Gender</th>\n",
              "      <th>Total_Bilirubin</th>\n",
              "      <th>Direct_Bilirubin</th>\n",
              "      <th>Alkaline_Phosphotase</th>\n",
              "      <th>Alamine_Aminotransferase</th>\n",
              "      <th>Aspartate_Aminotransferase</th>\n",
              "      <th>Total_Protiens</th>\n",
              "      <th>Albumin</th>\n",
              "      <th>Albumin_and_Globulin_Ratio</th>\n",
              "      <th>Dataset</th>\n",
              "    </tr>\n",
              "  </thead>\n",
              "  <tbody>\n",
              "    <tr>\n",
              "      <th>0</th>\n",
              "      <td>65</td>\n",
              "      <td>0</td>\n",
              "      <td>0.7</td>\n",
              "      <td>0.1</td>\n",
              "      <td>187</td>\n",
              "      <td>16</td>\n",
              "      <td>18</td>\n",
              "      <td>6.8</td>\n",
              "      <td>3.3</td>\n",
              "      <td>0.90</td>\n",
              "      <td>1</td>\n",
              "    </tr>\n",
              "    <tr>\n",
              "      <th>1</th>\n",
              "      <td>62</td>\n",
              "      <td>1</td>\n",
              "      <td>10.9</td>\n",
              "      <td>5.5</td>\n",
              "      <td>699</td>\n",
              "      <td>64</td>\n",
              "      <td>100</td>\n",
              "      <td>7.5</td>\n",
              "      <td>3.2</td>\n",
              "      <td>0.74</td>\n",
              "      <td>1</td>\n",
              "    </tr>\n",
              "    <tr>\n",
              "      <th>2</th>\n",
              "      <td>62</td>\n",
              "      <td>1</td>\n",
              "      <td>7.3</td>\n",
              "      <td>4.1</td>\n",
              "      <td>490</td>\n",
              "      <td>60</td>\n",
              "      <td>68</td>\n",
              "      <td>7.0</td>\n",
              "      <td>3.3</td>\n",
              "      <td>0.89</td>\n",
              "      <td>1</td>\n",
              "    </tr>\n",
              "    <tr>\n",
              "      <th>3</th>\n",
              "      <td>58</td>\n",
              "      <td>1</td>\n",
              "      <td>1.0</td>\n",
              "      <td>0.4</td>\n",
              "      <td>182</td>\n",
              "      <td>14</td>\n",
              "      <td>20</td>\n",
              "      <td>6.8</td>\n",
              "      <td>3.4</td>\n",
              "      <td>1.00</td>\n",
              "      <td>1</td>\n",
              "    </tr>\n",
              "    <tr>\n",
              "      <th>4</th>\n",
              "      <td>72</td>\n",
              "      <td>1</td>\n",
              "      <td>3.9</td>\n",
              "      <td>2.0</td>\n",
              "      <td>195</td>\n",
              "      <td>27</td>\n",
              "      <td>59</td>\n",
              "      <td>7.3</td>\n",
              "      <td>2.4</td>\n",
              "      <td>0.40</td>\n",
              "      <td>1</td>\n",
              "    </tr>\n",
              "    <tr>\n",
              "      <th>5</th>\n",
              "      <td>46</td>\n",
              "      <td>1</td>\n",
              "      <td>1.8</td>\n",
              "      <td>0.7</td>\n",
              "      <td>208</td>\n",
              "      <td>19</td>\n",
              "      <td>14</td>\n",
              "      <td>7.6</td>\n",
              "      <td>4.4</td>\n",
              "      <td>1.30</td>\n",
              "      <td>1</td>\n",
              "    </tr>\n",
              "    <tr>\n",
              "      <th>6</th>\n",
              "      <td>26</td>\n",
              "      <td>0</td>\n",
              "      <td>0.9</td>\n",
              "      <td>0.2</td>\n",
              "      <td>154</td>\n",
              "      <td>16</td>\n",
              "      <td>12</td>\n",
              "      <td>7.0</td>\n",
              "      <td>3.5</td>\n",
              "      <td>1.00</td>\n",
              "      <td>1</td>\n",
              "    </tr>\n",
              "    <tr>\n",
              "      <th>7</th>\n",
              "      <td>29</td>\n",
              "      <td>0</td>\n",
              "      <td>0.9</td>\n",
              "      <td>0.3</td>\n",
              "      <td>202</td>\n",
              "      <td>14</td>\n",
              "      <td>11</td>\n",
              "      <td>6.7</td>\n",
              "      <td>3.6</td>\n",
              "      <td>1.10</td>\n",
              "      <td>1</td>\n",
              "    </tr>\n",
              "    <tr>\n",
              "      <th>8</th>\n",
              "      <td>17</td>\n",
              "      <td>1</td>\n",
              "      <td>0.9</td>\n",
              "      <td>0.3</td>\n",
              "      <td>202</td>\n",
              "      <td>22</td>\n",
              "      <td>19</td>\n",
              "      <td>7.4</td>\n",
              "      <td>4.1</td>\n",
              "      <td>1.20</td>\n",
              "      <td>2</td>\n",
              "    </tr>\n",
              "    <tr>\n",
              "      <th>9</th>\n",
              "      <td>55</td>\n",
              "      <td>1</td>\n",
              "      <td>0.7</td>\n",
              "      <td>0.2</td>\n",
              "      <td>290</td>\n",
              "      <td>53</td>\n",
              "      <td>58</td>\n",
              "      <td>6.8</td>\n",
              "      <td>3.4</td>\n",
              "      <td>1.00</td>\n",
              "      <td>1</td>\n",
              "    </tr>\n",
              "  </tbody>\n",
              "</table>\n",
              "</div>"
            ],
            "text/plain": [
              "   Age  Gender  Total_Bilirubin  ...  Albumin  Albumin_and_Globulin_Ratio  Dataset\n",
              "0   65       0              0.7  ...      3.3                        0.90        1\n",
              "1   62       1             10.9  ...      3.2                        0.74        1\n",
              "2   62       1              7.3  ...      3.3                        0.89        1\n",
              "3   58       1              1.0  ...      3.4                        1.00        1\n",
              "4   72       1              3.9  ...      2.4                        0.40        1\n",
              "5   46       1              1.8  ...      4.4                        1.30        1\n",
              "6   26       0              0.9  ...      3.5                        1.00        1\n",
              "7   29       0              0.9  ...      3.6                        1.10        1\n",
              "8   17       1              0.9  ...      4.1                        1.20        2\n",
              "9   55       1              0.7  ...      3.4                        1.00        1\n",
              "\n",
              "[10 rows x 11 columns]"
            ]
          },
          "metadata": {
            "tags": []
          },
          "execution_count": 9
        }
      ]
    },
    {
      "cell_type": "code",
      "metadata": {
        "id": "Nc-quLLwsS3c",
        "colab_type": "code",
        "colab": {
          "base_uri": "https://localhost:8080/",
          "height": 823
        },
        "outputId": "cb68bfef-db63-4119-c83b-c841aadf7e4b"
      },
      "source": [
        "# plot histogram\n",
        "df.hist(figsize=(15,10))"
      ],
      "execution_count": 10,
      "outputs": [
        {
          "output_type": "execute_result",
          "data": {
            "text/plain": [
              "array([[<matplotlib.axes._subplots.AxesSubplot object at 0x7f3fe3157b38>,\n",
              "        <matplotlib.axes._subplots.AxesSubplot object at 0x7f3fe3104dd8>,\n",
              "        <matplotlib.axes._subplots.AxesSubplot object at 0x7f3fe30c5080>],\n",
              "       [<matplotlib.axes._subplots.AxesSubplot object at 0x7f3fe30f82e8>,\n",
              "        <matplotlib.axes._subplots.AxesSubplot object at 0x7f3fe30ab550>,\n",
              "        <matplotlib.axes._subplots.AxesSubplot object at 0x7f3fe305f7b8>],\n",
              "       [<matplotlib.axes._subplots.AxesSubplot object at 0x7f3fe3012a20>,\n",
              "        <matplotlib.axes._subplots.AxesSubplot object at 0x7f3fe2fc5c50>,\n",
              "        <matplotlib.axes._subplots.AxesSubplot object at 0x7f3fe2fc5cc0>],\n",
              "       [<matplotlib.axes._subplots.AxesSubplot object at 0x7f3fe2fbb198>,\n",
              "        <matplotlib.axes._subplots.AxesSubplot object at 0x7f3fe2f70400>,\n",
              "        <matplotlib.axes._subplots.AxesSubplot object at 0x7f3fe2f22668>]],\n",
              "      dtype=object)"
            ]
          },
          "metadata": {
            "tags": []
          },
          "execution_count": 10
        },
        {
          "output_type": "display_data",
          "data": {
            "image/png": "[encoded data removed]",
            "text/plain": [
              "<Figure size 1080x720 with 12 Axes>"
            ]
          },
          "metadata": {
            "tags": [],
            "needs_background": "light"
          }
        }
      ]
    },
    {
      "cell_type": "code",
      "metadata": {
        "id": "XhybUAYfsvtw",
        "colab_type": "code",
        "colab": {
          "base_uri": "https://localhost:8080/",
          "height": 307
        },
        "outputId": "195b62e6-a473-4db4-bc50-3a730ac05651"
      },
      "source": [
        "df.describe()"
      ],
      "execution_count": 11,
      "outputs": [
        {
          "output_type": "execute_result",
          "data": {
            "text/html": [
              "<div>\n",
              "<style scoped>\n",
              "    .dataframe tbody tr th:only-of-type {\n",
              "        vertical-align: middle;\n",
              "    }\n",
              "\n",
              "    .dataframe tbody tr th {\n",
              "        vertical-align: top;\n",
              "    }\n",
              "\n",
              "    .dataframe thead th {\n",
              "        text-align: right;\n",
              "    }\n",
              "</style>\n",
              "<table border=\"1\" class=\"dataframe\">\n",
              "  <thead>\n",
              "    <tr style=\"text-align: right;\">\n",
              "      <th></th>\n",
              "      <th>Age</th>\n",
              "      <th>Gender</th>\n",
              "      <th>Total_Bilirubin</th>\n",
              "      <th>Direct_Bilirubin</th>\n",
              "      <th>Alkaline_Phosphotase</th>\n",
              "      <th>Alamine_Aminotransferase</th>\n",
              "      <th>Aspartate_Aminotransferase</th>\n",
              "      <th>Total_Protiens</th>\n",
              "      <th>Albumin</th>\n",
              "      <th>Albumin_and_Globulin_Ratio</th>\n",
              "      <th>Dataset</th>\n",
              "    </tr>\n",
              "  </thead>\n",
              "  <tbody>\n",
              "    <tr>\n",
              "      <th>count</th>\n",
              "      <td>579.000000</td>\n",
              "      <td>579.000000</td>\n",
              "      <td>579.000000</td>\n",
              "      <td>579.000000</td>\n",
              "      <td>579.000000</td>\n",
              "      <td>579.000000</td>\n",
              "      <td>579.000000</td>\n",
              "      <td>579.000000</td>\n",
              "      <td>579.000000</td>\n",
              "      <td>579.000000</td>\n",
              "      <td>579.000000</td>\n",
              "    </tr>\n",
              "    <tr>\n",
              "      <th>mean</th>\n",
              "      <td>44.782383</td>\n",
              "      <td>0.758204</td>\n",
              "      <td>3.315371</td>\n",
              "      <td>1.494128</td>\n",
              "      <td>291.366149</td>\n",
              "      <td>81.126079</td>\n",
              "      <td>110.414508</td>\n",
              "      <td>6.481693</td>\n",
              "      <td>3.138515</td>\n",
              "      <td>0.947064</td>\n",
              "      <td>1.284974</td>\n",
              "    </tr>\n",
              "    <tr>\n",
              "      <th>std</th>\n",
              "      <td>16.221786</td>\n",
              "      <td>0.428542</td>\n",
              "      <td>6.227716</td>\n",
              "      <td>2.816499</td>\n",
              "      <td>243.561863</td>\n",
              "      <td>183.182845</td>\n",
              "      <td>289.850034</td>\n",
              "      <td>1.084641</td>\n",
              "      <td>0.794435</td>\n",
              "      <td>0.319592</td>\n",
              "      <td>0.451792</td>\n",
              "    </tr>\n",
              "    <tr>\n",
              "      <th>min</th>\n",
              "      <td>4.000000</td>\n",
              "      <td>0.000000</td>\n",
              "      <td>0.400000</td>\n",
              "      <td>0.100000</td>\n",
              "      <td>63.000000</td>\n",
              "      <td>10.000000</td>\n",
              "      <td>10.000000</td>\n",
              "      <td>2.700000</td>\n",
              "      <td>0.900000</td>\n",
              "      <td>0.300000</td>\n",
              "      <td>1.000000</td>\n",
              "    </tr>\n",
              "    <tr>\n",
              "      <th>25%</th>\n",
              "      <td>33.000000</td>\n",
              "      <td>1.000000</td>\n",
              "      <td>0.800000</td>\n",
              "      <td>0.200000</td>\n",
              "      <td>175.500000</td>\n",
              "      <td>23.000000</td>\n",
              "      <td>25.000000</td>\n",
              "      <td>5.800000</td>\n",
              "      <td>2.600000</td>\n",
              "      <td>0.700000</td>\n",
              "      <td>1.000000</td>\n",
              "    </tr>\n",
              "    <tr>\n",
              "      <th>50%</th>\n",
              "      <td>45.000000</td>\n",
              "      <td>1.000000</td>\n",
              "      <td>1.000000</td>\n",
              "      <td>0.300000</td>\n",
              "      <td>208.000000</td>\n",
              "      <td>35.000000</td>\n",
              "      <td>42.000000</td>\n",
              "      <td>6.600000</td>\n",
              "      <td>3.100000</td>\n",
              "      <td>0.930000</td>\n",
              "      <td>1.000000</td>\n",
              "    </tr>\n",
              "    <tr>\n",
              "      <th>75%</th>\n",
              "      <td>58.000000</td>\n",
              "      <td>1.000000</td>\n",
              "      <td>2.600000</td>\n",
              "      <td>1.300000</td>\n",
              "      <td>298.000000</td>\n",
              "      <td>61.000000</td>\n",
              "      <td>87.000000</td>\n",
              "      <td>7.200000</td>\n",
              "      <td>3.800000</td>\n",
              "      <td>1.100000</td>\n",
              "      <td>2.000000</td>\n",
              "    </tr>\n",
              "    <tr>\n",
              "      <th>max</th>\n",
              "      <td>90.000000</td>\n",
              "      <td>1.000000</td>\n",
              "      <td>75.000000</td>\n",
              "      <td>19.700000</td>\n",
              "      <td>2110.000000</td>\n",
              "      <td>2000.000000</td>\n",
              "      <td>4929.000000</td>\n",
              "      <td>9.600000</td>\n",
              "      <td>5.500000</td>\n",
              "      <td>2.800000</td>\n",
              "      <td>2.000000</td>\n",
              "    </tr>\n",
              "  </tbody>\n",
              "</table>\n",
              "</div>"
            ],
            "text/plain": [
              "              Age      Gender  ...  Albumin_and_Globulin_Ratio     Dataset\n",
              "count  579.000000  579.000000  ...                  579.000000  579.000000\n",
              "mean    44.782383    0.758204  ...                    0.947064    1.284974\n",
              "std     16.221786    0.428542  ...                    0.319592    0.451792\n",
              "min      4.000000    0.000000  ...                    0.300000    1.000000\n",
              "25%     33.000000    1.000000  ...                    0.700000    1.000000\n",
              "50%     45.000000    1.000000  ...                    0.930000    1.000000\n",
              "75%     58.000000    1.000000  ...                    1.100000    2.000000\n",
              "max     90.000000    1.000000  ...                    2.800000    2.000000\n",
              "\n",
              "[8 rows x 11 columns]"
            ]
          },
          "metadata": {
            "tags": []
          },
          "execution_count": 11
        }
      ]
    },
    {
      "cell_type": "code",
      "metadata": {
        "id": "JMaahYqdeOBf",
        "colab_type": "code",
        "colab": {}
      },
      "source": [
        "from matplotlib import pyplot as plt\n",
        "%matplotlib inline"
      ],
      "execution_count": 12,
      "outputs": []
    },
    {
      "cell_type": "code",
      "metadata": {
        "id": "6U31N4ytvkMz",
        "colab_type": "code",
        "colab": {
          "base_uri": "https://localhost:8080/",
          "height": 678
        },
        "outputId": "89b17eed-c189-420d-92ff-0b8b94950a8e"
      },
      "source": [
        "# calculate correlation coefficients for the dataset\n",
        "correlations = df.corr()\n",
        "\n",
        "# and visualize\n",
        "plt.figure(figsize=(10, 10))\n",
        "g = sns.heatmap(correlations, cbar = True, square = True, annot=True, fmt= '.2f', annot_kws={'size': 10})"
      ],
      "execution_count": 13,
      "outputs": [
        {
          "output_type": "display_data",
          "data": {
            "image/png": "[encoded data removed]",
            "text/plain": [
              "<Figure size 720x720 with 2 Axes>"
            ]
          },
          "metadata": {
            "tags": [],
            "needs_background": "light"
          }
        }
      ]
    },
    {
      "cell_type": "code",
      "metadata": {
        "id": "S5IbIuQIu26O",
        "colab_type": "code",
        "colab": {
          "base_uri": "https://localhost:8080/",
          "height": 217
        },
        "outputId": "3c7c5b1d-729e-4f7b-f87a-eaf22db476da"
      },
      "source": [
        "from sklearn.preprocessing import MinMaxScaler\n",
        "from IPython.display import display\n",
        "\n",
        "scaler = MinMaxScaler()\n",
        "numerical = ['Age', 'Total_Bilirubin', 'Direct_Bilirubin', 'Alkaline_Phosphotase', 'Alamine_Aminotransferase',\n",
        "             'Aspartate_Aminotransferase', 'Total_Protiens', 'Albumin', 'Albumin_and_Globulin_Ratio']\n",
        "\n",
        "liver_minmax_transform = pd.DataFrame(data = df)\n",
        "liver_minmax_transform[numerical] = scaler.fit_transform(df[numerical])\n",
        "\n",
        "display(liver_minmax_transform.head(n = 5))"
      ],
      "execution_count": 14,
      "outputs": [
        {
          "output_type": "display_data",
          "data": {
            "text/html": [
              "<div>\n",
              "<style scoped>\n",
              "    .dataframe tbody tr th:only-of-type {\n",
              "        vertical-align: middle;\n",
              "    }\n",
              "\n",
              "    .dataframe tbody tr th {\n",
              "        vertical-align: top;\n",
              "    }\n",
              "\n",
              "    .dataframe thead th {\n",
              "        text-align: right;\n",
              "    }\n",
              "</style>\n",
              "<table border=\"1\" class=\"dataframe\">\n",
              "  <thead>\n",
              "    <tr style=\"text-align: right;\">\n",
              "      <th></th>\n",
              "      <th>Age</th>\n",
              "      <th>Gender</th>\n",
              "      <th>Total_Bilirubin</th>\n",
              "      <th>Direct_Bilirubin</th>\n",
              "      <th>Alkaline_Phosphotase</th>\n",
              "      <th>Alamine_Aminotransferase</th>\n",
              "      <th>Aspartate_Aminotransferase</th>\n",
              "      <th>Total_Protiens</th>\n",
              "      <th>Albumin</th>\n",
              "      <th>Albumin_and_Globulin_Ratio</th>\n",
              "      <th>Dataset</th>\n",
              "    </tr>\n",
              "  </thead>\n",
              "  <tbody>\n",
              "    <tr>\n",
              "      <th>0</th>\n",
              "      <td>0.709302</td>\n",
              "      <td>0</td>\n",
              "      <td>0.004021</td>\n",
              "      <td>0.000000</td>\n",
              "      <td>0.060576</td>\n",
              "      <td>0.003015</td>\n",
              "      <td>0.001626</td>\n",
              "      <td>0.594203</td>\n",
              "      <td>0.521739</td>\n",
              "      <td>0.240</td>\n",
              "      <td>1</td>\n",
              "    </tr>\n",
              "    <tr>\n",
              "      <th>1</th>\n",
              "      <td>0.674419</td>\n",
              "      <td>1</td>\n",
              "      <td>0.140751</td>\n",
              "      <td>0.275510</td>\n",
              "      <td>0.310699</td>\n",
              "      <td>0.027136</td>\n",
              "      <td>0.018296</td>\n",
              "      <td>0.695652</td>\n",
              "      <td>0.500000</td>\n",
              "      <td>0.176</td>\n",
              "      <td>1</td>\n",
              "    </tr>\n",
              "    <tr>\n",
              "      <th>2</th>\n",
              "      <td>0.674419</td>\n",
              "      <td>1</td>\n",
              "      <td>0.092493</td>\n",
              "      <td>0.204082</td>\n",
              "      <td>0.208598</td>\n",
              "      <td>0.025126</td>\n",
              "      <td>0.011791</td>\n",
              "      <td>0.623188</td>\n",
              "      <td>0.521739</td>\n",
              "      <td>0.236</td>\n",
              "      <td>1</td>\n",
              "    </tr>\n",
              "    <tr>\n",
              "      <th>3</th>\n",
              "      <td>0.627907</td>\n",
              "      <td>1</td>\n",
              "      <td>0.008043</td>\n",
              "      <td>0.015306</td>\n",
              "      <td>0.058134</td>\n",
              "      <td>0.002010</td>\n",
              "      <td>0.002033</td>\n",
              "      <td>0.594203</td>\n",
              "      <td>0.543478</td>\n",
              "      <td>0.280</td>\n",
              "      <td>1</td>\n",
              "    </tr>\n",
              "    <tr>\n",
              "      <th>4</th>\n",
              "      <td>0.790698</td>\n",
              "      <td>1</td>\n",
              "      <td>0.046917</td>\n",
              "      <td>0.096939</td>\n",
              "      <td>0.064485</td>\n",
              "      <td>0.008543</td>\n",
              "      <td>0.009961</td>\n",
              "      <td>0.666667</td>\n",
              "      <td>0.326087</td>\n",
              "      <td>0.040</td>\n",
              "      <td>1</td>\n",
              "    </tr>\n",
              "  </tbody>\n",
              "</table>\n",
              "</div>"
            ],
            "text/plain": [
              "        Age  Gender  ...  Albumin_and_Globulin_Ratio  Dataset\n",
              "0  0.709302       0  ...                       0.240        1\n",
              "1  0.674419       1  ...                       0.176        1\n",
              "2  0.674419       1  ...                       0.236        1\n",
              "3  0.627907       1  ...                       0.280        1\n",
              "4  0.790698       1  ...                       0.040        1\n",
              "\n",
              "[5 rows x 11 columns]"
            ]
          },
          "metadata": {
            "tags": []
          }
        }
      ]
    },
    {
      "cell_type": "code",
      "metadata": {
        "id": "rP0zYHyShzxA",
        "colab_type": "code",
        "colab": {}
      },
      "source": [
        "import numpy as np"
      ],
      "execution_count": 15,
      "outputs": []
    },
    {
      "cell_type": "code",
      "metadata": {
        "id": "cE58sV2OfteD",
        "colab_type": "code",
        "colab": {
          "base_uri": "https://localhost:8080/",
          "height": 233
        },
        "outputId": "2e32780e-e19f-4cf2-d9f8-fac3ae1a9ebc"
      },
      "source": [
        "X = np.array(df)[:, 0:10]\n",
        "X"
      ],
      "execution_count": 16,
      "outputs": [
        {
          "output_type": "execute_result",
          "data": {
            "text/plain": [
              "array([[0.70930233, 0.        , 0.00402145, ..., 0.5942029 , 0.52173913,\n",
              "        0.24      ],\n",
              "       [0.6744186 , 1.        , 0.14075067, ..., 0.69565217, 0.5       ,\n",
              "        0.176     ],\n",
              "       [0.6744186 , 1.        , 0.0924933 , ..., 0.62318841, 0.52173913,\n",
              "        0.236     ],\n",
              "       ...,\n",
              "       [0.55813953, 1.        , 0.00536193, ..., 0.53623188, 0.5       ,\n",
              "        0.28      ],\n",
              "       [0.31395349, 1.        , 0.01206434, ..., 0.5942029 , 0.54347826,\n",
              "        0.28      ],\n",
              "       [0.39534884, 1.        , 0.0080429 , ..., 0.66666667, 0.76086957,\n",
              "        0.48      ]])"
            ]
          },
          "metadata": {
            "tags": []
          },
          "execution_count": 16
        }
      ]
    },
    {
      "cell_type": "code",
      "metadata": {
        "id": "v4RuTywUiEm5",
        "colab_type": "code",
        "colab": {
          "base_uri": "https://localhost:8080/",
          "height": 183
        },
        "outputId": "b879238e-f9f4-4366-9872-5c5b20f1e5d9"
      },
      "source": [
        "y = np.array(df)[:, 10].reshape(X.shape[0],1) - 1\n",
        "y[:10]"
      ],
      "execution_count": 17,
      "outputs": [
        {
          "output_type": "execute_result",
          "data": {
            "text/plain": [
              "array([[0.],\n",
              "       [0.],\n",
              "       [0.],\n",
              "       [0.],\n",
              "       [0.],\n",
              "       [0.],\n",
              "       [0.],\n",
              "       [0.],\n",
              "       [1.],\n",
              "       [0.]])"
            ]
          },
          "metadata": {
            "tags": []
          },
          "execution_count": 17
        }
      ]
    },
    {
      "cell_type": "markdown",
      "metadata": {
        "id": "tMGUjQtL05m7",
        "colab_type": "text"
      },
      "source": [
        "#Optimization algorithm for binary classification of liver dieseae (1=+/  0=-)"
      ]
    },
    {
      "cell_type": "code",
      "metadata": {
        "id": "ZWqS07pqiRjS",
        "colab_type": "code",
        "colab": {}
      },
      "source": [
        "def sigmoid(X, c):\n",
        "    return 1/(1+np.exp(-X.dot(c)))"
      ],
      "execution_count": 18,
      "outputs": []
    },
    {
      "cell_type": "code",
      "metadata": {
        "id": "Ewj87oniinSR",
        "colab_type": "code",
        "colab": {}
      },
      "source": [
        "def logistic_obj(X,c,y):\n",
        "    \n",
        "    # c dx1 vector of weights\n",
        "    # X nxd matrix of data values\n",
        "    # y nx1 vector of labels\n",
        "    \n",
        "    obj_value = (-1/X.shape[0]) * np.sum(y*np.log(sigmoid(X, c)) + (1 - y)*np.log(1 - sigmoid(X, c)))\n",
        "    \n",
        "    return obj_value"
      ],
      "execution_count": 19,
      "outputs": []
    },
    {
      "cell_type": "code",
      "metadata": {
        "id": "cqOc9LiDisGp",
        "colab_type": "code",
        "colab": {}
      },
      "source": [
        "def logistic_grad(X,c,y):\n",
        "    \n",
        "    return (1/X.shape[0]) * np.dot(X.T, sigmoid(X, c) - y)"
      ],
      "execution_count": 20,
      "outputs": []
    },
    {
      "cell_type": "code",
      "metadata": {
        "id": "eOpDLWesi2he",
        "colab_type": "code",
        "colab": {}
      },
      "source": [
        "def logistic_sgd(X,c,y):\n",
        "    \n",
        "    (n,d) = X.shape\n",
        "    \n",
        "    idx = np.random.randint(n)\n",
        "    \n",
        "    x = X[idx, :].reshape(1, d)\n",
        "    \n",
        "    z = np.dot(x.T, sigmoid(x, c) - y)\n",
        "\n",
        "    return z.T"
      ],
      "execution_count": 21,
      "outputs": []
    },
    {
      "cell_type": "code",
      "metadata": {
        "id": "ctRuYMk9i_K3",
        "colab_type": "code",
        "colab": {
          "base_uri": "https://localhost:8080/",
          "height": 333
        },
        "outputId": "bbbdf731-9792-4f1c-a1c4-230526e48d1c"
      },
      "source": [
        "\n",
        "x0 = np.array([50., 1., 0.5, 5.,400.,25.,8.,7.2,3.2,0.8]).reshape(10,1)\n",
        "x1 = np.array([54., 1., 0.3, 5.5,200.,23.,7.,7.4,3.1,0.5]).reshape(10,1)\n",
        "\n",
        "[x0, x1]"
      ],
      "execution_count": 22,
      "outputs": [
        {
          "output_type": "execute_result",
          "data": {
            "text/plain": [
              "[array([[ 50. ],\n",
              "        [  1. ],\n",
              "        [  0.5],\n",
              "        [  5. ],\n",
              "        [400. ],\n",
              "        [ 25. ],\n",
              "        [  8. ],\n",
              "        [  7.2],\n",
              "        [  3.2],\n",
              "        [  0.8]]), array([[ 54. ],\n",
              "        [  1. ],\n",
              "        [  0.3],\n",
              "        [  5.5],\n",
              "        [200. ],\n",
              "        [ 23. ],\n",
              "        [  7. ],\n",
              "        [  7.4],\n",
              "        [  3.1],\n",
              "        [  0.5]])]"
            ]
          },
          "metadata": {
            "tags": []
          },
          "execution_count": 22
        }
      ]
    },
    {
      "cell_type": "code",
      "metadata": {
        "id": "NfGzwY0tjbYc",
        "colab_type": "code",
        "colab": {
          "base_uri": "https://localhost:8080/",
          "height": 450
        },
        "outputId": "fbbea7ed-b043-4faf-814d-8abbaaaf9750"
      },
      "source": [
        "eta = 0.0001\n",
        "\n",
        "iterations = 1000000\n",
        "\n",
        "c = np.zeros((10,1))\n",
        "\n",
        "# We will use the following vector to keep track of objective values\n",
        "objective_values = np.zeros((iterations,1))\n",
        "\n",
        "for i in range(iterations):\n",
        "    \n",
        "    c = c - eta * logistic_grad(X,c,y)\n",
        "    \n",
        "    # store current objective value\n",
        "    objective_values[i] = logistic_obj(X,c,y)\n",
        "    \n",
        "    \n",
        "\n",
        "# Plot the objective as a function of the iteration\n",
        "plt.plot(objective_values)\n",
        "plt.xlabel('Iteration')\n",
        "plt.ylabel('Objective value')\n",
        "\n",
        "print(c)"
      ],
      "execution_count": 23,
      "outputs": [
        {
          "output_type": "stream",
          "text": [
            "[[-1.04532219]\n",
            " [-0.41555215]\n",
            " [-0.62292214]\n",
            " [-1.20909339]\n",
            " [-0.86616795]\n",
            " [-0.58406425]\n",
            " [-0.33115585]\n",
            " [-0.40171405]\n",
            " [ 0.4226848 ]\n",
            " [ 0.43187364]]\n"
          ],
          "name": "stdout"
        },
        {
          "output_type": "display_data",
          "data": {
            "image/png": "[encoded data removed]",
            "text/plain": [
              "<Figure size 432x288 with 1 Axes>"
            ]
          },
          "metadata": {
            "tags": [],
            "needs_background": "light"
          }
        }
      ]
    },
    {
      "cell_type": "markdown",
      "metadata": {
        "id": "GPhs-PG5zurY",
        "colab_type": "text"
      },
      "source": [
        "#Confusion matrix is used to  evaluate the accuracy of a classification\n",
        "\n"
      ]
    },
    {
      "cell_type": "code",
      "metadata": {
        "id": "MPLXSdumjz4B",
        "colab_type": "code",
        "colab": {
          "base_uri": "https://localhost:8080/",
          "height": 50
        },
        "outputId": "950b747f-041b-4b16-b84e-3560e3fa971a"
      },
      "source": [
        "from sklearn.metrics import confusion_matrix\n",
        "\n",
        "confusion_matrix(sigmoid(X, c) > 0.5, y == 1)"
      ],
      "execution_count": 24,
      "outputs": [
        {
          "output_type": "execute_result",
          "data": {
            "text/plain": [
              "array([[414, 163],\n",
              "       [  0,   2]])"
            ]
          },
          "metadata": {
            "tags": []
          },
          "execution_count": 24
        }
      ]
    },
    {
      "cell_type": "markdown",
      "metadata": {
        "id": "S79kNcv22BTl",
        "colab_type": "text"
      },
      "source": [
        "#Compare Naive Prediction with confusion_matrix prediction\n"
      ]
    },
    {
      "cell_type": "code",
      "metadata": {
        "id": "3ip1GzP52ATN",
        "colab_type": "code",
        "colab": {
          "base_uri": "https://localhost:8080/",
          "height": 66
        },
        "outputId": "291c83ca-c39d-425d-e637-7d3ae8cc810a"
      },
      "source": [
        "liver_data_labels = df['Dataset']\n",
        "true_pos = n_records_liv_pos\n",
        "false_pos = liver_data_labels.count() - true_pos\n",
        "true_neg = 0\n",
        "false_neg = 0\n",
        "print('true positives: {} | true negatives: {}'.format(true_pos,false_pos))\n",
        "\n",
        "# Calculate accuracy, precision and recall\n",
        "accuracy = true_pos/liver_data_labels.count()\n",
        "recall = true_pos/(true_pos + false_neg)\n",
        "precision = true_pos/(true_pos + false_pos)\n",
        "print('accuracy: {} | precision: {} | recall: {}'.format(accuracy, precision, recall))\n",
        "\n",
        "# Calculate F-score using the formula above\n",
        "beta = 2\n",
        "#F score, also called the F1 score or F measure, is a measure of a test’s accuracy. \n",
        "fscore = (1 + beta * beta) * (precision * recall) / (beta * beta * precision + recall)\n",
        "\n",
        "# Result \n",
        "print(\"Naive Predictor: [Accuracy score: {:.4f}, F-score: {:.4f}]\".format(accuracy, fscore))"
      ],
      "execution_count": 25,
      "outputs": [
        {
          "output_type": "stream",
          "text": [
            "true positives: 416 | true negatives: 163\n",
            "accuracy: 0.7184801381692574 | precision: 0.7184801381692574 | recall: 1.0\n",
            "Naive Predictor: [Accuracy score: 0.7185, F-score: 0.9273]\n"
          ],
          "name": "stdout"
        }
      ]
    }
  ]
}